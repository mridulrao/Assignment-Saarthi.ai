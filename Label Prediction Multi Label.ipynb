{
 "cells": [
  {
   "cell_type": "code",
   "execution_count": 1,
   "id": "482a5ee0",
   "metadata": {},
   "outputs": [],
   "source": [
    "import pandas as pd\n",
    "import numpy as np"
   ]
  },
  {
   "cell_type": "code",
   "execution_count": 2,
   "id": "b40417cd",
   "metadata": {},
   "outputs": [
    {
     "data": {
      "text/html": [
       "<div>\n",
       "<style scoped>\n",
       "    .dataframe tbody tr th:only-of-type {\n",
       "        vertical-align: middle;\n",
       "    }\n",
       "\n",
       "    .dataframe tbody tr th {\n",
       "        vertical-align: top;\n",
       "    }\n",
       "\n",
       "    .dataframe thead th {\n",
       "        text-align: right;\n",
       "    }\n",
       "</style>\n",
       "<table border=\"1\" class=\"dataframe\">\n",
       "  <thead>\n",
       "    <tr style=\"text-align: right;\">\n",
       "      <th></th>\n",
       "      <th>path</th>\n",
       "      <th>transcription</th>\n",
       "      <th>action</th>\n",
       "      <th>object</th>\n",
       "      <th>location</th>\n",
       "    </tr>\n",
       "  </thead>\n",
       "  <tbody>\n",
       "    <tr>\n",
       "      <th>0</th>\n",
       "      <td>wavs/speakers/xRQE5VD7rRHVdyvM/7372ca00-45c4-1...</td>\n",
       "      <td>Turn on the kitchen lights</td>\n",
       "      <td>activate</td>\n",
       "      <td>lights</td>\n",
       "      <td>kitchen</td>\n",
       "    </tr>\n",
       "    <tr>\n",
       "      <th>1</th>\n",
       "      <td>wavs/speakers/R3mexpM2YAtdPbL7/dae28110-44fe-1...</td>\n",
       "      <td>Turn up the temperature</td>\n",
       "      <td>increase</td>\n",
       "      <td>heat</td>\n",
       "      <td>none</td>\n",
       "    </tr>\n",
       "    <tr>\n",
       "      <th>2</th>\n",
       "      <td>wavs/speakers/ZebMRl5Z7dhrPKRD/b55dcfd0-455d-1...</td>\n",
       "      <td>OK now switch the main language to Chinese</td>\n",
       "      <td>change language</td>\n",
       "      <td>Chinese</td>\n",
       "      <td>none</td>\n",
       "    </tr>\n",
       "    <tr>\n",
       "      <th>3</th>\n",
       "      <td>wavs/speakers/ppzZqYxGkESMdA5Az/61c54a20-4476-...</td>\n",
       "      <td>Turn down the bathroom temperature</td>\n",
       "      <td>decrease</td>\n",
       "      <td>heat</td>\n",
       "      <td>washroom</td>\n",
       "    </tr>\n",
       "    <tr>\n",
       "      <th>4</th>\n",
       "      <td>wavs/speakers/zaEBPeMY4NUbDnZy/8ef57ec0-44df-1...</td>\n",
       "      <td>Change the language</td>\n",
       "      <td>change language</td>\n",
       "      <td>none</td>\n",
       "      <td>none</td>\n",
       "    </tr>\n",
       "  </tbody>\n",
       "</table>\n",
       "</div>"
      ],
      "text/plain": [
       "                                                path  \\\n",
       "0  wavs/speakers/xRQE5VD7rRHVdyvM/7372ca00-45c4-1...   \n",
       "1  wavs/speakers/R3mexpM2YAtdPbL7/dae28110-44fe-1...   \n",
       "2  wavs/speakers/ZebMRl5Z7dhrPKRD/b55dcfd0-455d-1...   \n",
       "3  wavs/speakers/ppzZqYxGkESMdA5Az/61c54a20-4476-...   \n",
       "4  wavs/speakers/zaEBPeMY4NUbDnZy/8ef57ec0-44df-1...   \n",
       "\n",
       "                                transcription           action   object  \\\n",
       "0                  Turn on the kitchen lights         activate   lights   \n",
       "1                     Turn up the temperature         increase     heat   \n",
       "2  OK now switch the main language to Chinese  change language  Chinese   \n",
       "3          Turn down the bathroom temperature         decrease     heat   \n",
       "4                         Change the language  change language     none   \n",
       "\n",
       "   location  \n",
       "0   kitchen  \n",
       "1      none  \n",
       "2      none  \n",
       "3  washroom  \n",
       "4      none  "
      ]
     },
     "execution_count": 2,
     "metadata": {},
     "output_type": "execute_result"
    }
   ],
   "source": [
    "#read the datasets\n",
    "\n",
    "train = pd.read_csv(\"train_data.csv\")\n",
    "val = pd.read_csv(\"valid_data.csv\")\n",
    "train.head()"
   ]
  },
  {
   "cell_type": "markdown",
   "id": "63c386b1",
   "metadata": {},
   "source": [
    "At first glance the dataset looks like it comprises of commands. These commands have a certain object on which actions needs to be performed. We will try to analyze the dataset by finding how many uniques value in object, action and location we have "
   ]
  },
  {
   "cell_type": "code",
   "execution_count": 3,
   "id": "7a0b0584",
   "metadata": {},
   "outputs": [
    {
     "data": {
      "text/plain": [
       "increase           2961\n",
       "decrease           2852\n",
       "activate           1901\n",
       "deactivate         1537\n",
       "change language    1267\n",
       "bring              1048\n",
       "Name: action, dtype: int64"
      ]
     },
     "execution_count": 3,
     "metadata": {},
     "output_type": "execute_result"
    }
   ],
   "source": [
    "train['action'].value_counts()"
   ]
  },
  {
   "cell_type": "code",
   "execution_count": 4,
   "id": "9d486982",
   "metadata": {},
   "outputs": [
    {
     "data": {
      "text/plain": [
       "heat         3629\n",
       "lights       2363\n",
       "volume       2184\n",
       "music         680\n",
       "none          512\n",
       "lamp          395\n",
       "newspaper     274\n",
       "shoes         266\n",
       "socks         265\n",
       "juice         243\n",
       "Chinese       229\n",
       "English       196\n",
       "Korean        169\n",
       "German        161\n",
       "Name: object, dtype: int64"
      ]
     },
     "execution_count": 4,
     "metadata": {},
     "output_type": "execute_result"
    }
   ],
   "source": [
    "train['object'].value_counts()"
   ]
  },
  {
   "cell_type": "code",
   "execution_count": 5,
   "id": "26683b62",
   "metadata": {},
   "outputs": [
    {
     "data": {
      "text/plain": [
       "none        7150\n",
       "washroom    1958\n",
       "kitchen     1273\n",
       "bedroom     1185\n",
       "Name: location, dtype: int64"
      ]
     },
     "execution_count": 5,
     "metadata": {},
     "output_type": "execute_result"
    }
   ],
   "source": [
    "train['location'].value_counts()"
   ]
  },
  {
   "cell_type": "markdown",
   "id": "df268bf8",
   "metadata": {},
   "source": [
    "Compare these unique value with the validation dataset "
   ]
  },
  {
   "cell_type": "code",
   "execution_count": 6,
   "id": "237f4ecc",
   "metadata": {},
   "outputs": [
    {
     "data": {
      "text/plain": [
       "increase           822\n",
       "decrease           769\n",
       "activate           562\n",
       "deactivate         439\n",
       "change language    292\n",
       "bring              234\n",
       "Name: action, dtype: int64"
      ]
     },
     "execution_count": 6,
     "metadata": {},
     "output_type": "execute_result"
    }
   ],
   "source": [
    "val['action'].value_counts()"
   ]
  },
  {
   "cell_type": "markdown",
   "id": "4efdad28",
   "metadata": {},
   "source": [
    "After analyzing the unique values in dataset, we can see that there are 6 types of actions, 14 types of object and 4 types of location in the dataset. Thus, we can say that we need to train a multi-label classification model which will analyze all the three labels and identify correct labels from its reseoctive set of possibilities"
   ]
  },
  {
   "cell_type": "markdown",
   "id": "05b01ee2",
   "metadata": {},
   "source": [
    "We need to transform every label (action, location and object) into one-hot encoded format so that they can be passed in the model "
   ]
  },
  {
   "cell_type": "code",
   "execution_count": 7,
   "id": "bdf8bbdc",
   "metadata": {},
   "outputs": [],
   "source": [
    "#one-hot encode actions \n",
    "\n",
    "action_list = []\n",
    "action_list_val = []\n",
    "\n",
    "action_dict = {\n",
    "    'increase' : 0,\n",
    "    'decrease' : 1,\n",
    "    'activate' : 2,\n",
    "    'deactivate' : 3,\n",
    "    'change language' : 4,\n",
    "    'bring' : 5\n",
    "}\n",
    "\n",
    "for action in train['action']:\n",
    "    one_hot_action = [0] * len(action_dict.keys())\n",
    "    one_hot_action[action_dict[action]] = 1\n",
    "    action_list.append(np.array(one_hot_action))\n",
    "    \n",
    "for action in val['action']:\n",
    "    one_hot_action = [0] * len(action_dict.keys())\n",
    "    one_hot_action[action_dict[action]] = 1\n",
    "    action_list_val.append(np.array(one_hot_action))"
   ]
  },
  {
   "cell_type": "code",
   "execution_count": 8,
   "id": "9d58cd66",
   "metadata": {},
   "outputs": [],
   "source": [
    "#one hot encode object\n",
    "\n",
    "object_list = []\n",
    "object_list_val = []\n",
    "\n",
    "object_dict = {\n",
    "    'heat' : 0,\n",
    "    'lights' : 1,\n",
    "    'volume' : 2,\n",
    "    'music' : 3,\n",
    "    'none' : 4,\n",
    "    'lamp' : 5,\n",
    "    'newspaper' : 6,\n",
    "    'shoes' : 7,\n",
    "    'socks' : 8,\n",
    "    'juice' : 9,\n",
    "    'Chinese' : 10,\n",
    "    'English' : 11,\n",
    "    'Korean' : 12,\n",
    "    'German' : 13\n",
    "}\n",
    "\n",
    "for _object in train['object']:\n",
    "    one_hot_object = [0] * len(object_dict.keys())\n",
    "    one_hot_object[object_dict[_object]] = 1\n",
    "    object_list.append(np.array(one_hot_object))\n",
    "    \n",
    "for _object in val['object']:\n",
    "    one_hot_object = [0] * len(object_dict.keys())\n",
    "    one_hot_object[object_dict[_object]] = 1\n",
    "    object_list_val.append(np.array(one_hot_object))"
   ]
  },
  {
   "cell_type": "code",
   "execution_count": 9,
   "id": "cb1adc2d",
   "metadata": {},
   "outputs": [],
   "source": [
    "#one hot encode location\n",
    "\n",
    "location_list = []\n",
    "location_list_val = []\n",
    "\n",
    "location_dict = {\n",
    "    'none' : 0,\n",
    "    'washroom' : 1,\n",
    "    'kitchen' : 2,\n",
    "    'bedroom' : 3\n",
    "}\n",
    "\n",
    "for location in train['location']:\n",
    "    one_hot_location = [0] * len(location_dict.keys())\n",
    "    one_hot_location[location_dict[location]] = 1\n",
    "    location_list.append(np.array(one_hot_location))\n",
    "\n",
    "for location in val['location']:\n",
    "    one_hot_location = [0] * len(location_dict.keys())\n",
    "    one_hot_location[location_dict[location]] = 1\n",
    "    location_list_val.append(np.array(one_hot_location))"
   ]
  },
  {
   "cell_type": "markdown",
   "id": "34df53b1",
   "metadata": {},
   "source": [
    "We need to build a vocab which will consist of every word that is present in the dataset, 'transcription' column will help us in building the vocab"
   ]
  },
  {
   "cell_type": "code",
   "execution_count": 10,
   "id": "a8bebaef",
   "metadata": {},
   "outputs": [],
   "source": [
    "vocab = train['transcription']"
   ]
  },
  {
   "cell_type": "markdown",
   "id": "e75cc101",
   "metadata": {},
   "source": [
    "To creat word-embeddings, we have used Glove embeddings as these are pre-trained embedding and we wont require to train them again to identify the relations between different words present in our vocab. This will help in improving performance of our model"
   ]
  },
  {
   "cell_type": "code",
   "execution_count": 11,
   "id": "a71915c4",
   "metadata": {},
   "outputs": [
    {
     "name": "stderr",
     "output_type": "stream",
     "text": [
      "400000it [00:10, 36668.40it/s]\n"
     ]
    }
   ],
   "source": [
    "from tqdm import tqdm\n",
    "embedding_vector = {}\n",
    "f = open('glove.6B.300d.txt')\n",
    "for line in tqdm(f):\n",
    "    value = line.split(' ')\n",
    "    word = value[0]\n",
    "    coef = np.array(value[1:],dtype = 'float32')\n",
    "    embedding_vector[word] = coef"
   ]
  },
  {
   "cell_type": "markdown",
   "id": "46f27b05",
   "metadata": {},
   "source": [
    "We will tokenize the text, using keras tokenizer"
   ]
  },
  {
   "cell_type": "code",
   "execution_count": 12,
   "id": "6d6e6c70",
   "metadata": {},
   "outputs": [],
   "source": [
    "from tensorflow.keras.preprocessing.text import Tokenizer\n",
    "token = Tokenizer()\n",
    "token.fit_on_texts(vocab)"
   ]
  },
  {
   "cell_type": "code",
   "execution_count": 13,
   "id": "5f9993f6",
   "metadata": {},
   "outputs": [
    {
     "name": "stdout",
     "output_type": "stream",
     "text": [
      "99\n"
     ]
    }
   ],
   "source": [
    "vocab_size = len(token.word_index)+1\n",
    "print(vocab_size)"
   ]
  },
  {
   "cell_type": "markdown",
   "id": "1cfa1242",
   "metadata": {},
   "source": [
    "We have to identify the maximum length of sentence/transcription present in the dataset. We require the maximum length  because we will pad every sentence upto the length of maximum sentence so that every sentence have same size."
   ]
  },
  {
   "cell_type": "code",
   "execution_count": 14,
   "id": "427cd702",
   "metadata": {},
   "outputs": [
    {
     "name": "stdout",
     "output_type": "stream",
     "text": [
      "10\n"
     ]
    }
   ],
   "source": [
    "max_length = 0\n",
    "for command in train['transcription']:\n",
    "    if len(command.split(' ')) > max_length:\n",
    "        max_length = len(command.split(' '))\n",
    "print(max_length)"
   ]
  },
  {
   "cell_type": "markdown",
   "id": "2e80870a",
   "metadata": {},
   "source": [
    "We will do post-padding in the tokenized transcription as the padded tokens are not meaningful during learnning, therefore they are insignificant while training the model.  "
   ]
  },
  {
   "cell_type": "code",
   "execution_count": 15,
   "id": "09e672af",
   "metadata": {},
   "outputs": [],
   "source": [
    "from tensorflow.keras.preprocessing.sequence import pad_sequences\n",
    "\n",
    "seq = token.texts_to_sequences(list(train['transcription']))\n",
    "pad_seq = pad_sequences(seq, maxlen=12, padding = 'post')\n",
    "\n",
    "val_seq = token.texts_to_sequences(list(val['transcription']))\n",
    "val_pad_seq = pad_sequences(val_seq, maxlen=12, padding = 'post')"
   ]
  },
  {
   "cell_type": "markdown",
   "id": "00556d1f",
   "metadata": {},
   "source": [
    "create the embedding matrix which will contain all the embedding vectors of the vocabulary "
   ]
  },
  {
   "cell_type": "code",
   "execution_count": 16,
   "id": "9a299919",
   "metadata": {},
   "outputs": [
    {
     "name": "stderr",
     "output_type": "stream",
     "text": [
      "100%|████████████████████████████████████████| 98/98 [00:00<00:00, 98903.22it/s]\n"
     ]
    }
   ],
   "source": [
    "from tqdm import tqdm\n",
    "embedding_matrix = np.zeros((vocab_size,300))\n",
    "for word,i in tqdm(token.word_index.items()):\n",
    "    embedding_value = embedding_vector.get(word)\n",
    "    if embedding_value is not None:\n",
    "        embedding_matrix[i] = embedding_value"
   ]
  },
  {
   "cell_type": "code",
   "execution_count": 17,
   "id": "59b2d4d2",
   "metadata": {},
   "outputs": [
    {
     "data": {
      "text/plain": [
       "(99, 300)"
      ]
     },
     "execution_count": 17,
     "metadata": {},
     "output_type": "execute_result"
    }
   ],
   "source": [
    "embedding_matrix.shape"
   ]
  },
  {
   "cell_type": "markdown",
   "id": "cda483de",
   "metadata": {},
   "source": [
    "convert the one-hot encoded labels into numpy array "
   ]
  },
  {
   "cell_type": "code",
   "execution_count": 18,
   "id": "c6da2ff8",
   "metadata": {},
   "outputs": [],
   "source": [
    "action_list = np.array(action_list)\n",
    "location_list = np.array(location_list)\n",
    "object_list = np.array(object_list)\n",
    "\n",
    "action_list_val = np.array(action_list_val)\n",
    "location_list_val = np.array(location_list_val)\n",
    "object_list_val = np.array(object_list_val)"
   ]
  },
  {
   "cell_type": "code",
   "execution_count": 19,
   "id": "ff6f32aa",
   "metadata": {},
   "outputs": [
    {
     "data": {
      "text/plain": [
       "(11566, 12)"
      ]
     },
     "execution_count": 19,
     "metadata": {},
     "output_type": "execute_result"
    }
   ],
   "source": [
    "pad_seq.shape"
   ]
  },
  {
   "cell_type": "code",
   "execution_count": 20,
   "id": "25583454",
   "metadata": {},
   "outputs": [],
   "source": [
    "from tensorflow import keras\n",
    "from tensorflow.keras.models import Sequential, Model\n",
    "from tensorflow.keras.layers import Input, LSTM, Dense, Dropout, Embedding, Bidirectional, Conv1D, Flatten"
   ]
  },
  {
   "cell_type": "markdown",
   "id": "c08ebf82",
   "metadata": {},
   "source": [
    "We have build a keras functional API model as there will be three outputs of the model comprising of each label, action, location and object. Each output will contain particular number of neurons which can be determined using the total number of unique values of label. For eg there are 4 unique locations in the dataset, therfore output layer correspinding to location will have 4 neurons. This will give us the probability of predicted label belonging to every possible location. "
   ]
  },
  {
   "cell_type": "code",
   "execution_count": 21,
   "id": "40f4d56d",
   "metadata": {},
   "outputs": [],
   "source": [
    "inputs = Input(shape=(12,))\n",
    "x = Embedding(vocab_size, 300, weights = [embedding_matrix], input_length=12, trainable = False)(inputs)\n",
    "x = Bidirectional(LSTM(64))(x)\n",
    "x = Dense(128, activation='relu')(x)\n",
    "output_action = Dense(len(action_dict.keys()), activation='sigmoid', name='output_action')(x)\n",
    "output_location = Dense(len(location_dict.keys()), activation='sigmoid', name='output_location')(x)\n",
    "output_object = Dense(len(object_dict.keys()), activation='sigmoid', name='output_object')(x)"
   ]
  },
  {
   "cell_type": "code",
   "execution_count": 22,
   "id": "40ab4bd2",
   "metadata": {},
   "outputs": [],
   "source": [
    "model = Model(inputs=inputs, outputs=[output_action, output_location, output_object])"
   ]
  },
  {
   "cell_type": "code",
   "execution_count": 23,
   "id": "b9a5b504",
   "metadata": {},
   "outputs": [],
   "source": [
    "model.compile(optimizer='adam', loss='binary_crossentropy', metrics=['accuracy'])"
   ]
  },
  {
   "cell_type": "code",
   "execution_count": 24,
   "id": "3b190528",
   "metadata": {},
   "outputs": [
    {
     "name": "stdout",
     "output_type": "stream",
     "text": [
      "Model: \"model\"\n",
      "__________________________________________________________________________________________________\n",
      " Layer (type)                   Output Shape         Param #     Connected to                     \n",
      "==================================================================================================\n",
      " input_1 (InputLayer)           [(None, 12)]         0           []                               \n",
      "                                                                                                  \n",
      " embedding (Embedding)          (None, 12, 300)      29700       ['input_1[0][0]']                \n",
      "                                                                                                  \n",
      " bidirectional (Bidirectional)  (None, 128)          186880      ['embedding[0][0]']              \n",
      "                                                                                                  \n",
      " dense (Dense)                  (None, 128)          16512       ['bidirectional[0][0]']          \n",
      "                                                                                                  \n",
      " output_action (Dense)          (None, 6)            774         ['dense[0][0]']                  \n",
      "                                                                                                  \n",
      " output_location (Dense)        (None, 4)            516         ['dense[0][0]']                  \n",
      "                                                                                                  \n",
      " output_object (Dense)          (None, 14)           1806        ['dense[0][0]']                  \n",
      "                                                                                                  \n",
      "==================================================================================================\n",
      "Total params: 236,188\n",
      "Trainable params: 206,488\n",
      "Non-trainable params: 29,700\n",
      "__________________________________________________________________________________________________\n"
     ]
    }
   ],
   "source": [
    "model.summary()"
   ]
  },
  {
   "cell_type": "code",
   "execution_count": 25,
   "id": "1f69a2a5",
   "metadata": {},
   "outputs": [
    {
     "name": "stdout",
     "output_type": "stream",
     "text": [
      "Epoch 1/8\n"
     ]
    },
    {
     "name": "stderr",
     "output_type": "stream",
     "text": [
      "2023-05-07 12:02:51.259575: W tensorflow/core/platform/profile_utils/cpu_utils.cc:128] Failed to get CPU frequency: 0 Hz\n"
     ]
    },
    {
     "name": "stdout",
     "output_type": "stream",
     "text": [
      "362/362 [==============================] - 4s 7ms/step - loss: 0.2398 - output_action_loss: 0.0985 - output_location_loss: 0.0656 - output_object_loss: 0.0757 - output_action_accuracy: 0.8906 - output_location_accuracy: 0.9496 - output_object_accuracy: 0.8567 - val_loss: 0.0049 - val_output_action_loss: 0.0012 - val_output_location_loss: 5.9237e-04 - val_output_object_loss: 0.0031 - val_output_action_accuracy: 1.0000 - val_output_location_accuracy: 1.0000 - val_output_object_accuracy: 1.0000\n",
      "Epoch 2/8\n",
      "362/362 [==============================] - 2s 7ms/step - loss: 0.0021 - output_action_loss: 5.4604e-04 - output_location_loss: 2.6906e-04 - output_object_loss: 0.0012 - output_action_accuracy: 1.0000 - output_location_accuracy: 1.0000 - output_object_accuracy: 1.0000 - val_loss: 7.4483e-04 - val_output_action_loss: 2.1912e-04 - val_output_location_loss: 1.1610e-04 - val_output_object_loss: 4.0960e-04 - val_output_action_accuracy: 1.0000 - val_output_location_accuracy: 1.0000 - val_output_object_accuracy: 1.0000\n",
      "Epoch 3/8\n",
      "362/362 [==============================] - 3s 7ms/step - loss: 4.6318e-04 - output_action_loss: 1.3573e-04 - output_location_loss: 6.7870e-05 - output_object_loss: 2.5958e-04 - output_action_accuracy: 1.0000 - output_location_accuracy: 1.0000 - output_object_accuracy: 1.0000 - val_loss: 2.5603e-04 - val_output_action_loss: 7.9686e-05 - val_output_location_loss: 4.4057e-05 - val_output_object_loss: 1.3229e-04 - val_output_action_accuracy: 1.0000 - val_output_location_accuracy: 1.0000 - val_output_object_accuracy: 1.0000\n",
      "Epoch 4/8\n",
      "362/362 [==============================] - 2s 7ms/step - loss: 1.8676e-04 - output_action_loss: 5.6546e-05 - output_location_loss: 3.0979e-05 - output_object_loss: 9.9232e-05 - output_action_accuracy: 1.0000 - output_location_accuracy: 1.0000 - output_object_accuracy: 1.0000 - val_loss: 1.2533e-04 - val_output_action_loss: 3.9080e-05 - val_output_location_loss: 2.3966e-05 - val_output_object_loss: 6.2281e-05 - val_output_action_accuracy: 1.0000 - val_output_location_accuracy: 1.0000 - val_output_object_accuracy: 1.0000\n",
      "Epoch 5/8\n",
      "362/362 [==============================] - 3s 8ms/step - loss: 9.9381e-05 - output_action_loss: 3.0145e-05 - output_location_loss: 1.7795e-05 - output_object_loss: 5.1441e-05 - output_action_accuracy: 1.0000 - output_location_accuracy: 1.0000 - output_object_accuracy: 1.0000 - val_loss: 7.3308e-05 - val_output_action_loss: 2.2963e-05 - val_output_location_loss: 1.4601e-05 - val_output_object_loss: 3.5745e-05 - val_output_action_accuracy: 1.0000 - val_output_location_accuracy: 1.0000 - val_output_object_accuracy: 1.0000\n",
      "Epoch 6/8\n",
      "362/362 [==============================] - 2s 6ms/step - loss: 6.0716e-05 - output_action_loss: 1.8398e-05 - output_location_loss: 1.1372e-05 - output_object_loss: 3.0946e-05 - output_action_accuracy: 1.0000 - output_location_accuracy: 1.0000 - output_object_accuracy: 1.0000 - val_loss: 4.6952e-05 - val_output_action_loss: 1.4731e-05 - val_output_location_loss: 9.6559e-06 - val_output_object_loss: 2.2566e-05 - val_output_action_accuracy: 1.0000 - val_output_location_accuracy: 1.0000 - val_output_object_accuracy: 1.0000\n",
      "Epoch 7/8\n",
      "362/362 [==============================] - 2s 6ms/step - loss: 4.0060e-05 - output_action_loss: 1.2171e-05 - output_location_loss: 7.7395e-06 - output_object_loss: 2.0150e-05 - output_action_accuracy: 1.0000 - output_location_accuracy: 1.0000 - output_object_accuracy: 1.0000 - val_loss: 3.1950e-05 - val_output_action_loss: 9.9372e-06 - val_output_location_loss: 6.8087e-06 - val_output_object_loss: 1.5204e-05 - val_output_action_accuracy: 1.0000 - val_output_location_accuracy: 1.0000 - val_output_object_accuracy: 1.0000\n",
      "Epoch 8/8\n",
      "362/362 [==============================] - 2s 6ms/step - loss: 2.7778e-05 - output_action_loss: 8.4037e-06 - output_location_loss: 5.5190e-06 - output_object_loss: 1.3855e-05 - output_action_accuracy: 1.0000 - output_location_accuracy: 1.0000 - output_object_accuracy: 1.0000 - val_loss: 2.2637e-05 - val_output_action_loss: 7.0324e-06 - val_output_location_loss: 4.8966e-06 - val_output_object_loss: 1.0708e-05 - val_output_action_accuracy: 1.0000 - val_output_location_accuracy: 1.0000 - val_output_object_accuracy: 1.0000\n"
     ]
    }
   ],
   "source": [
    "history = model.fit(pad_seq, \n",
    "                    {'output_action': action_list, \n",
    "                     'output_location': location_list, \n",
    "                     'output_object': object_list}, \n",
    "                    validation_data = (val_pad_seq, (action_list_val, location_list_val, object_list_val)), #validation_split=0.2, \n",
    "                    epochs=8, \n",
    "                    batch_size=32,)"
   ]
  },
  {
   "cell_type": "code",
   "execution_count": 26,
   "id": "d79d9477",
   "metadata": {},
   "outputs": [
    {
     "data": {
      "image/png": "[encoded data removed]",
      "text/plain": [
       "<Figure size 640x480 with 1 Axes>"
      ]
     },
     "metadata": {},
     "output_type": "display_data"
    }
   ],
   "source": [
    "from matplotlib import pyplot as plt\n",
    "plt.plot(history.history['loss'])\n",
    "plt.plot(history.history['val_loss'])\n",
    "plt.title('model loss')\n",
    "plt.ylabel('loss')\n",
    "plt.xlabel('epoch')\n",
    "plt.legend(['train', 'val'], loc='upper left')\n",
    "plt.show()"
   ]
  },
  {
   "cell_type": "markdown",
   "id": "a1dd78ae",
   "metadata": {},
   "source": [
    "We can see from the graph that our model is not overfitting, we could use regularizer to prevent overfitting"
   ]
  },
  {
   "cell_type": "code",
   "execution_count": 27,
   "id": "332261a3",
   "metadata": {},
   "outputs": [],
   "source": [
    "#function to map predictied index in the label dictionary\n",
    "def get_key(val, my_dict):\n",
    "   \n",
    "    for key, value in my_dict.items():\n",
    "        if val == value:\n",
    "            return key\n",
    " \n",
    "    return \"key doesn't exist\""
   ]
  },
  {
   "cell_type": "code",
   "execution_count": 28,
   "id": "61096702",
   "metadata": {},
   "outputs": [],
   "source": [
    "sent_pred = 'Put on the music'\n",
    "pred_tokens = token.texts_to_sequences([sent_pred])\n",
    "pad_seq_pred = pad_sequences(pred_tokens, maxlen=12, padding = 'post')\n",
    "\n",
    "prediction = model.predict(pad_seq_pred)"
   ]
  },
  {
   "cell_type": "code",
   "execution_count": 29,
   "id": "8bf0db99",
   "metadata": {},
   "outputs": [
    {
     "name": "stdout",
     "output_type": "stream",
     "text": [
      "activate\n",
      "none\n",
      "music\n"
     ]
    }
   ],
   "source": [
    "print(get_key(np.argmax(prediction[0]), action_dict))\n",
    "print(get_key(np.argmax(prediction[1]), location_dict))\n",
    "print(get_key(np.argmax(prediction[2]), object_dict))"
   ]
  },
  {
   "cell_type": "code",
   "execution_count": null,
   "id": "50ae0863",
   "metadata": {},
   "outputs": [],
   "source": []
  }
 ],
 "metadata": {
  "kernelspec": {
   "display_name": "Python 3 (ipykernel)",
   "language": "python",
   "name": "python3"
  },
  "language_info": {
   "codemirror_mode": {
    "name": "ipython",
    "version": 3
   },
   "file_extension": ".py",
   "mimetype": "text/x-python",
   "name": "python",
   "nbconvert_exporter": "python",
   "pygments_lexer": "ipython3",
   "version": "3.8.15"
  }
 },
 "nbformat": 4,
 "nbformat_minor": 5
}
