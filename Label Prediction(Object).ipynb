{
 "cells": [
  {
   "cell_type": "code",
   "execution_count": 1,
   "id": "32a5f1cb",
   "metadata": {},
   "outputs": [],
   "source": [
    "import pandas as pd\n",
    "import numpy as np"
   ]
  },
  {
   "cell_type": "code",
   "execution_count": 2,
   "id": "4f52e5d9",
   "metadata": {},
   "outputs": [
    {
     "data": {
      "text/html": [
       "<div>\n",
       "<style scoped>\n",
       "    .dataframe tbody tr th:only-of-type {\n",
       "        vertical-align: middle;\n",
       "    }\n",
       "\n",
       "    .dataframe tbody tr th {\n",
       "        vertical-align: top;\n",
       "    }\n",
       "\n",
       "    .dataframe thead th {\n",
       "        text-align: right;\n",
       "    }\n",
       "</style>\n",
       "<table border=\"1\" class=\"dataframe\">\n",
       "  <thead>\n",
       "    <tr style=\"text-align: right;\">\n",
       "      <th></th>\n",
       "      <th>transcription</th>\n",
       "      <th>object</th>\n",
       "    </tr>\n",
       "  </thead>\n",
       "  <tbody>\n",
       "    <tr>\n",
       "      <th>0</th>\n",
       "      <td>Turn on the kitchen lights</td>\n",
       "      <td>lights</td>\n",
       "    </tr>\n",
       "    <tr>\n",
       "      <th>1</th>\n",
       "      <td>Turn up the temperature</td>\n",
       "      <td>heat</td>\n",
       "    </tr>\n",
       "    <tr>\n",
       "      <th>2</th>\n",
       "      <td>OK now switch the main language to Chinese</td>\n",
       "      <td>Chinese</td>\n",
       "    </tr>\n",
       "    <tr>\n",
       "      <th>3</th>\n",
       "      <td>Turn down the bathroom temperature</td>\n",
       "      <td>heat</td>\n",
       "    </tr>\n",
       "    <tr>\n",
       "      <th>4</th>\n",
       "      <td>Change the language</td>\n",
       "      <td>none</td>\n",
       "    </tr>\n",
       "  </tbody>\n",
       "</table>\n",
       "</div>"
      ],
      "text/plain": [
       "                                transcription   object\n",
       "0                  Turn on the kitchen lights   lights\n",
       "1                     Turn up the temperature     heat\n",
       "2  OK now switch the main language to Chinese  Chinese\n",
       "3          Turn down the bathroom temperature     heat\n",
       "4                         Change the language     none"
      ]
     },
     "execution_count": 2,
     "metadata": {},
     "output_type": "execute_result"
    }
   ],
   "source": [
    "train = pd.read_csv(\"train_data.csv\")\n",
    "train = train.drop(['path', 'action', 'location'], axis = 1)\n",
    "train.head()"
   ]
  },
  {
   "cell_type": "code",
   "execution_count": 3,
   "id": "40fc8a67",
   "metadata": {},
   "outputs": [],
   "source": [
    "from tensorflow.keras.preprocessing.text import Tokenizer\n",
    "\n",
    "token = Tokenizer()\n",
    "token.fit_on_texts(train['transcription'])\n",
    "seq = token.texts_to_sequences(train['transcription'])"
   ]
  },
  {
   "cell_type": "code",
   "execution_count": 4,
   "id": "ee98f60f",
   "metadata": {},
   "outputs": [],
   "source": [
    "train['tokenized'] = seq"
   ]
  },
  {
   "cell_type": "code",
   "execution_count": 5,
   "id": "31d70e20",
   "metadata": {},
   "outputs": [
    {
     "data": {
      "text/html": [
       "<div>\n",
       "<style scoped>\n",
       "    .dataframe tbody tr th:only-of-type {\n",
       "        vertical-align: middle;\n",
       "    }\n",
       "\n",
       "    .dataframe tbody tr th {\n",
       "        vertical-align: top;\n",
       "    }\n",
       "\n",
       "    .dataframe thead th {\n",
       "        text-align: right;\n",
       "    }\n",
       "</style>\n",
       "<table border=\"1\" class=\"dataframe\">\n",
       "  <thead>\n",
       "    <tr style=\"text-align: right;\">\n",
       "      <th></th>\n",
       "      <th>transcription</th>\n",
       "      <th>object</th>\n",
       "      <th>tokenized</th>\n",
       "    </tr>\n",
       "  </thead>\n",
       "  <tbody>\n",
       "    <tr>\n",
       "      <th>0</th>\n",
       "      <td>Turn on the kitchen lights</td>\n",
       "      <td>lights</td>\n",
       "      <td>[2, 5, 1, 11, 4]</td>\n",
       "    </tr>\n",
       "    <tr>\n",
       "      <th>1</th>\n",
       "      <td>Turn up the temperature</td>\n",
       "      <td>heat</td>\n",
       "      <td>[2, 6, 1, 9]</td>\n",
       "    </tr>\n",
       "    <tr>\n",
       "      <th>2</th>\n",
       "      <td>OK now switch the main language to Chinese</td>\n",
       "      <td>Chinese</td>\n",
       "      <td>[49, 50, 10, 1, 51, 14, 19, 41]</td>\n",
       "    </tr>\n",
       "    <tr>\n",
       "      <th>3</th>\n",
       "      <td>Turn down the bathroom temperature</td>\n",
       "      <td>heat</td>\n",
       "      <td>[2, 7, 1, 17, 9]</td>\n",
       "    </tr>\n",
       "    <tr>\n",
       "      <th>4</th>\n",
       "      <td>Change the language</td>\n",
       "      <td>none</td>\n",
       "      <td>[54, 1, 14]</td>\n",
       "    </tr>\n",
       "  </tbody>\n",
       "</table>\n",
       "</div>"
      ],
      "text/plain": [
       "                                transcription   object  \\\n",
       "0                  Turn on the kitchen lights   lights   \n",
       "1                     Turn up the temperature     heat   \n",
       "2  OK now switch the main language to Chinese  Chinese   \n",
       "3          Turn down the bathroom temperature     heat   \n",
       "4                         Change the language     none   \n",
       "\n",
       "                         tokenized  \n",
       "0                 [2, 5, 1, 11, 4]  \n",
       "1                     [2, 6, 1, 9]  \n",
       "2  [49, 50, 10, 1, 51, 14, 19, 41]  \n",
       "3                 [2, 7, 1, 17, 9]  \n",
       "4                      [54, 1, 14]  "
      ]
     },
     "execution_count": 5,
     "metadata": {},
     "output_type": "execute_result"
    }
   ],
   "source": [
    "train.head()"
   ]
  },
  {
   "cell_type": "code",
   "execution_count": 6,
   "id": "cc8e06f3",
   "metadata": {},
   "outputs": [],
   "source": [
    "transcription_tagged = []\n",
    "transcription_coded = []\n",
    "\n",
    "for i in range(len(train['transcription'])):\n",
    "    obj = train['object'].iloc[i]\n",
    "    coded = []\n",
    "    tagged = []\n",
    "    for word in train['transcription'].iloc[i].split(\" \"):\n",
    "        if word == obj:\n",
    "            tagged.append(\"O\")\n",
    "            coded.append(1)\n",
    "        else:\n",
    "            tagged.append(\"N\")\n",
    "            coded.append(0)\n",
    "            \n",
    "    transcription_tagged.append(tagged)\n",
    "    transcription_coded.append(coded)"
   ]
  },
  {
   "cell_type": "code",
   "execution_count": 7,
   "id": "69dbfb94",
   "metadata": {},
   "outputs": [],
   "source": [
    "train['tagged'] = transcription_tagged\n",
    "train['coded'] = transcription_coded"
   ]
  },
  {
   "cell_type": "code",
   "execution_count": 8,
   "id": "3bf67729",
   "metadata": {},
   "outputs": [
    {
     "data": {
      "text/html": [
       "<div>\n",
       "<style scoped>\n",
       "    .dataframe tbody tr th:only-of-type {\n",
       "        vertical-align: middle;\n",
       "    }\n",
       "\n",
       "    .dataframe tbody tr th {\n",
       "        vertical-align: top;\n",
       "    }\n",
       "\n",
       "    .dataframe thead th {\n",
       "        text-align: right;\n",
       "    }\n",
       "</style>\n",
       "<table border=\"1\" class=\"dataframe\">\n",
       "  <thead>\n",
       "    <tr style=\"text-align: right;\">\n",
       "      <th></th>\n",
       "      <th>transcription</th>\n",
       "      <th>object</th>\n",
       "      <th>tokenized</th>\n",
       "      <th>tagged</th>\n",
       "      <th>coded</th>\n",
       "    </tr>\n",
       "  </thead>\n",
       "  <tbody>\n",
       "    <tr>\n",
       "      <th>0</th>\n",
       "      <td>Turn on the kitchen lights</td>\n",
       "      <td>lights</td>\n",
       "      <td>[2, 5, 1, 11, 4]</td>\n",
       "      <td>[N, N, N, N, O]</td>\n",
       "      <td>[0, 0, 0, 0, 1]</td>\n",
       "    </tr>\n",
       "    <tr>\n",
       "      <th>1</th>\n",
       "      <td>Turn up the temperature</td>\n",
       "      <td>heat</td>\n",
       "      <td>[2, 6, 1, 9]</td>\n",
       "      <td>[N, N, N, N]</td>\n",
       "      <td>[0, 0, 0, 0]</td>\n",
       "    </tr>\n",
       "    <tr>\n",
       "      <th>2</th>\n",
       "      <td>OK now switch the main language to Chinese</td>\n",
       "      <td>Chinese</td>\n",
       "      <td>[49, 50, 10, 1, 51, 14, 19, 41]</td>\n",
       "      <td>[N, N, N, N, N, N, N, O]</td>\n",
       "      <td>[0, 0, 0, 0, 0, 0, 0, 1]</td>\n",
       "    </tr>\n",
       "    <tr>\n",
       "      <th>3</th>\n",
       "      <td>Turn down the bathroom temperature</td>\n",
       "      <td>heat</td>\n",
       "      <td>[2, 7, 1, 17, 9]</td>\n",
       "      <td>[N, N, N, N, N]</td>\n",
       "      <td>[0, 0, 0, 0, 0]</td>\n",
       "    </tr>\n",
       "    <tr>\n",
       "      <th>4</th>\n",
       "      <td>Change the language</td>\n",
       "      <td>none</td>\n",
       "      <td>[54, 1, 14]</td>\n",
       "      <td>[N, N, N]</td>\n",
       "      <td>[0, 0, 0]</td>\n",
       "    </tr>\n",
       "  </tbody>\n",
       "</table>\n",
       "</div>"
      ],
      "text/plain": [
       "                                transcription   object  \\\n",
       "0                  Turn on the kitchen lights   lights   \n",
       "1                     Turn up the temperature     heat   \n",
       "2  OK now switch the main language to Chinese  Chinese   \n",
       "3          Turn down the bathroom temperature     heat   \n",
       "4                         Change the language     none   \n",
       "\n",
       "                         tokenized                    tagged  \\\n",
       "0                 [2, 5, 1, 11, 4]           [N, N, N, N, O]   \n",
       "1                     [2, 6, 1, 9]              [N, N, N, N]   \n",
       "2  [49, 50, 10, 1, 51, 14, 19, 41]  [N, N, N, N, N, N, N, O]   \n",
       "3                 [2, 7, 1, 17, 9]           [N, N, N, N, N]   \n",
       "4                      [54, 1, 14]                 [N, N, N]   \n",
       "\n",
       "                      coded  \n",
       "0           [0, 0, 0, 0, 1]  \n",
       "1              [0, 0, 0, 0]  \n",
       "2  [0, 0, 0, 0, 0, 0, 0, 1]  \n",
       "3           [0, 0, 0, 0, 0]  \n",
       "4                 [0, 0, 0]  "
      ]
     },
     "execution_count": 8,
     "metadata": {},
     "output_type": "execute_result"
    }
   ],
   "source": [
    "train.head()"
   ]
  },
  {
   "cell_type": "code",
   "execution_count": 9,
   "id": "5e93e766",
   "metadata": {},
   "outputs": [],
   "source": [
    "from tensorflow.keras.preprocessing.sequence import pad_sequences"
   ]
  },
  {
   "cell_type": "code",
   "execution_count": 10,
   "id": "aeb47057",
   "metadata": {},
   "outputs": [],
   "source": [
    "def get_pad_tags(df):\n",
    "    tags = df['coded'].tolist()\n",
    "    pad_tags = pad_sequences(tags, maxlen = 12, dtype='int32', padding='post', value= 0)    \n",
    "    return pad_tags"
   ]
  },
  {
   "cell_type": "code",
   "execution_count": 11,
   "id": "f2bbf315",
   "metadata": {},
   "outputs": [],
   "source": [
    "def get_pad_token(df):\n",
    "    tokens = df['tokenized'].tolist()\n",
    "    pad_tokens = pad_sequences(tokens, maxlen = 12, dtype='int32', padding='post', value = 0)\n",
    "    \n",
    "    return pad_tokens"
   ]
  },
  {
   "cell_type": "code",
   "execution_count": 12,
   "id": "1b729d0e",
   "metadata": {},
   "outputs": [],
   "source": [
    "pad_tags = get_pad_tags(train)\n",
    "pad_tokens = get_pad_token(train)"
   ]
  },
  {
   "cell_type": "code",
   "execution_count": 13,
   "id": "d50f3f66",
   "metadata": {},
   "outputs": [
    {
     "data": {
      "text/plain": [
       "array([[0, 0, 0, ..., 0, 0, 0],\n",
       "       [0, 0, 0, ..., 0, 0, 0],\n",
       "       [0, 0, 0, ..., 0, 0, 0],\n",
       "       ...,\n",
       "       [0, 1, 0, ..., 0, 0, 0],\n",
       "       [0, 0, 0, ..., 0, 0, 0],\n",
       "       [0, 0, 0, ..., 0, 0, 0]], dtype=int32)"
      ]
     },
     "execution_count": 13,
     "metadata": {},
     "output_type": "execute_result"
    }
   ],
   "source": [
    "pad_tags"
   ]
  },
  {
   "cell_type": "code",
   "execution_count": 14,
   "id": "5eb5a098",
   "metadata": {},
   "outputs": [
    {
     "data": {
      "text/plain": [
       "array([[ 2,  5,  1, ...,  0,  0,  0],\n",
       "       [ 2,  6,  1, ...,  0,  0,  0],\n",
       "       [49, 50, 10, ...,  0,  0,  0],\n",
       "       ...,\n",
       "       [24, 36,  0, ...,  0,  0,  0],\n",
       "       [15, 79,  0, ...,  0,  0,  0],\n",
       "       [ 2, 12,  1, ...,  0,  0,  0]], dtype=int32)"
      ]
     },
     "execution_count": 14,
     "metadata": {},
     "output_type": "execute_result"
    }
   ],
   "source": [
    "pad_tokens"
   ]
  },
  {
   "cell_type": "code",
   "execution_count": 15,
   "id": "f230287a",
   "metadata": {},
   "outputs": [],
   "source": [
    "embedding_vector = {}\n",
    "f = open('glove.6B.300d.txt')\n",
    "from tqdm import tqdm\n",
    "for line in f:\n",
    "    value = line.split(' ')\n",
    "    word = value[0]\n",
    "    coef = np.array(value[1:],dtype = 'float32')\n",
    "    embedding_vector[word] = coef"
   ]
  },
  {
   "cell_type": "code",
   "execution_count": 16,
   "id": "8c16196e",
   "metadata": {},
   "outputs": [],
   "source": [
    "vocab_size = len(token.word_index)+1\n",
    "\n",
    "embedding_matrix = np.zeros((vocab_size,300))\n",
    "for word,i in token.word_index.items():\n",
    "    embedding_value = embedding_vector.get(word)\n",
    "    if embedding_value is not None:\n",
    "        embedding_matrix[i] = embedding_value"
   ]
  },
  {
   "cell_type": "code",
   "execution_count": 20,
   "id": "6c634da5",
   "metadata": {},
   "outputs": [],
   "source": [
    "sample_weight = []\n",
    "\n",
    "for sentence in train['coded']:\n",
    "    sentence_weight = []\n",
    "    for tag in sentence:\n",
    "        if tag == 1:\n",
    "            sentence_weight.append(10)\n",
    "        else:\n",
    "            sentence_weight.append(1)\n",
    "            \n",
    "    sample_weight.append(sentence_weight)"
   ]
  },
  {
   "cell_type": "code",
   "execution_count": 21,
   "id": "8794468e",
   "metadata": {},
   "outputs": [],
   "source": [
    "train['weights'] = sample_weight"
   ]
  },
  {
   "cell_type": "code",
   "execution_count": 22,
   "id": "5d9cb499",
   "metadata": {},
   "outputs": [
    {
     "data": {
      "text/html": [
       "<div>\n",
       "<style scoped>\n",
       "    .dataframe tbody tr th:only-of-type {\n",
       "        vertical-align: middle;\n",
       "    }\n",
       "\n",
       "    .dataframe tbody tr th {\n",
       "        vertical-align: top;\n",
       "    }\n",
       "\n",
       "    .dataframe thead th {\n",
       "        text-align: right;\n",
       "    }\n",
       "</style>\n",
       "<table border=\"1\" class=\"dataframe\">\n",
       "  <thead>\n",
       "    <tr style=\"text-align: right;\">\n",
       "      <th></th>\n",
       "      <th>transcription</th>\n",
       "      <th>object</th>\n",
       "      <th>tokenized</th>\n",
       "      <th>tagged</th>\n",
       "      <th>coded</th>\n",
       "      <th>weights</th>\n",
       "    </tr>\n",
       "  </thead>\n",
       "  <tbody>\n",
       "    <tr>\n",
       "      <th>0</th>\n",
       "      <td>Turn on the kitchen lights</td>\n",
       "      <td>lights</td>\n",
       "      <td>[2, 5, 1, 11, 4]</td>\n",
       "      <td>[N, N, N, N, O]</td>\n",
       "      <td>[0, 0, 0, 0, 1]</td>\n",
       "      <td>[1, 1, 1, 1, 10]</td>\n",
       "    </tr>\n",
       "    <tr>\n",
       "      <th>1</th>\n",
       "      <td>Turn up the temperature</td>\n",
       "      <td>heat</td>\n",
       "      <td>[2, 6, 1, 9]</td>\n",
       "      <td>[N, N, N, N]</td>\n",
       "      <td>[0, 0, 0, 0]</td>\n",
       "      <td>[1, 1, 1, 1]</td>\n",
       "    </tr>\n",
       "    <tr>\n",
       "      <th>2</th>\n",
       "      <td>OK now switch the main language to Chinese</td>\n",
       "      <td>Chinese</td>\n",
       "      <td>[49, 50, 10, 1, 51, 14, 19, 41]</td>\n",
       "      <td>[N, N, N, N, N, N, N, O]</td>\n",
       "      <td>[0, 0, 0, 0, 0, 0, 0, 1]</td>\n",
       "      <td>[1, 1, 1, 1, 1, 1, 1, 10]</td>\n",
       "    </tr>\n",
       "    <tr>\n",
       "      <th>3</th>\n",
       "      <td>Turn down the bathroom temperature</td>\n",
       "      <td>heat</td>\n",
       "      <td>[2, 7, 1, 17, 9]</td>\n",
       "      <td>[N, N, N, N, N]</td>\n",
       "      <td>[0, 0, 0, 0, 0]</td>\n",
       "      <td>[1, 1, 1, 1, 1]</td>\n",
       "    </tr>\n",
       "    <tr>\n",
       "      <th>4</th>\n",
       "      <td>Change the language</td>\n",
       "      <td>none</td>\n",
       "      <td>[54, 1, 14]</td>\n",
       "      <td>[N, N, N]</td>\n",
       "      <td>[0, 0, 0]</td>\n",
       "      <td>[1, 1, 1]</td>\n",
       "    </tr>\n",
       "  </tbody>\n",
       "</table>\n",
       "</div>"
      ],
      "text/plain": [
       "                                transcription   object  \\\n",
       "0                  Turn on the kitchen lights   lights   \n",
       "1                     Turn up the temperature     heat   \n",
       "2  OK now switch the main language to Chinese  Chinese   \n",
       "3          Turn down the bathroom temperature     heat   \n",
       "4                         Change the language     none   \n",
       "\n",
       "                         tokenized                    tagged  \\\n",
       "0                 [2, 5, 1, 11, 4]           [N, N, N, N, O]   \n",
       "1                     [2, 6, 1, 9]              [N, N, N, N]   \n",
       "2  [49, 50, 10, 1, 51, 14, 19, 41]  [N, N, N, N, N, N, N, O]   \n",
       "3                 [2, 7, 1, 17, 9]           [N, N, N, N, N]   \n",
       "4                      [54, 1, 14]                 [N, N, N]   \n",
       "\n",
       "                      coded                    weights  \n",
       "0           [0, 0, 0, 0, 1]           [1, 1, 1, 1, 10]  \n",
       "1              [0, 0, 0, 0]               [1, 1, 1, 1]  \n",
       "2  [0, 0, 0, 0, 0, 0, 0, 1]  [1, 1, 1, 1, 1, 1, 1, 10]  \n",
       "3           [0, 0, 0, 0, 0]            [1, 1, 1, 1, 1]  \n",
       "4                 [0, 0, 0]                  [1, 1, 1]  "
      ]
     },
     "execution_count": 22,
     "metadata": {},
     "output_type": "execute_result"
    }
   ],
   "source": [
    "train.head()"
   ]
  },
  {
   "cell_type": "code",
   "execution_count": 23,
   "id": "7154f42b",
   "metadata": {},
   "outputs": [],
   "source": [
    "weight = train['weights'].tolist()\n",
    "pad_weight = pad_sequences(weight, maxlen = 12, dtype='int32', padding='post', value = 1)"
   ]
  },
  {
   "cell_type": "code",
   "execution_count": 24,
   "id": "50275ed8",
   "metadata": {},
   "outputs": [],
   "source": [
    "from tensorflow.keras import Sequential, Model, Input\n",
    "from tensorflow.keras.layers import LSTM, Embedding, Dense, TimeDistributed, Dropout, Bidirectional"
   ]
  },
  {
   "cell_type": "code",
   "execution_count": 25,
   "id": "45cafaa3",
   "metadata": {},
   "outputs": [],
   "source": [
    "model = Sequential()\n",
    "model.add(Embedding(vocab_size, 300, weights = [embedding_matrix], input_length = 12, trainable = False))\n",
    "model.add(Bidirectional(LSTM(units=64, return_sequences=True, dropout=0.2, recurrent_dropout=0.2)))\n",
    "model.add(LSTM(units=64, dropout=0.5, return_sequences=True, recurrent_dropout=0.5))\n",
    "model.add(Dropout(0.5))\n",
    "model.add(Dense(128,activation = 'relu'))\n",
    "model.add(Dropout(0.5))\n",
    "model.add(Dense(2,activation = 'softmax'))\n",
    "model.compile(loss='sparse_categorical_crossentropy', optimizer='adam', metrics=['accuracy'], sample_weight_mode = 'temporal')"
   ]
  },
  {
   "cell_type": "code",
   "execution_count": 26,
   "id": "7f942404",
   "metadata": {},
   "outputs": [
    {
     "name": "stdout",
     "output_type": "stream",
     "text": [
      "Model: \"sequential\"\n",
      "_________________________________________________________________\n",
      " Layer (type)                Output Shape              Param #   \n",
      "=================================================================\n",
      " embedding (Embedding)       (None, 12, 300)           29700     \n",
      "                                                                 \n",
      " bidirectional (Bidirectiona  (None, 12, 128)          186880    \n",
      " l)                                                              \n",
      "                                                                 \n",
      " lstm_1 (LSTM)               (None, 12, 64)            49408     \n",
      "                                                                 \n",
      " dropout (Dropout)           (None, 12, 64)            0         \n",
      "                                                                 \n",
      " dense (Dense)               (None, 12, 128)           8320      \n",
      "                                                                 \n",
      " dropout_1 (Dropout)         (None, 12, 128)           0         \n",
      "                                                                 \n",
      " dense_1 (Dense)             (None, 12, 2)             258       \n",
      "                                                                 \n",
      "=================================================================\n",
      "Total params: 274,566\n",
      "Trainable params: 244,866\n",
      "Non-trainable params: 29,700\n",
      "_________________________________________________________________\n"
     ]
    }
   ],
   "source": [
    "model.summary()"
   ]
  },
  {
   "cell_type": "code",
   "execution_count": 27,
   "id": "b74fa86a",
   "metadata": {},
   "outputs": [
    {
     "name": "stderr",
     "output_type": "stream",
     "text": [
      "2023-05-08 00:57:09.407137: W tensorflow/core/platform/profile_utils/cpu_utils.cc:128] Failed to get CPU frequency: 0 Hz\n"
     ]
    },
    {
     "name": "stdout",
     "output_type": "stream",
     "text": [
      "Epoch 1/8\n",
      "290/290 [==============================] - 13s 33ms/step - loss: 0.1676 - accuracy: 0.9578 - val_loss: 0.0067 - val_accuracy: 0.9968\n",
      "Epoch 2/8\n",
      "290/290 [==============================] - 10s 35ms/step - loss: 0.0058 - accuracy: 0.9986 - val_loss: 5.0258e-04 - val_accuracy: 1.0000\n",
      "Epoch 3/8\n",
      "290/290 [==============================] - 10s 35ms/step - loss: 7.8150e-04 - accuracy: 0.9999 - val_loss: 3.0712e-05 - val_accuracy: 1.0000\n",
      "Epoch 4/8\n",
      "290/290 [==============================] - 10s 35ms/step - loss: 0.0015 - accuracy: 0.9997 - val_loss: 3.2019e-05 - val_accuracy: 1.0000\n",
      "Epoch 5/8\n",
      "290/290 [==============================] - 10s 35ms/step - loss: 2.1459e-04 - accuracy: 1.0000 - val_loss: 5.1303e-06 - val_accuracy: 1.0000\n",
      "Epoch 6/8\n",
      "290/290 [==============================] - 10s 35ms/step - loss: 1.0407e-04 - accuracy: 1.0000 - val_loss: 3.6031e-06 - val_accuracy: 1.0000\n",
      "Epoch 7/8\n",
      "290/290 [==============================] - 10s 35ms/step - loss: 7.7237e-04 - accuracy: 0.9999 - val_loss: 1.2062e-05 - val_accuracy: 1.0000\n",
      "Epoch 8/8\n",
      "290/290 [==============================] - 10s 35ms/step - loss: 4.3787e-04 - accuracy: 0.9999 - val_loss: 1.5828e-06 - val_accuracy: 1.0000\n"
     ]
    }
   ],
   "source": [
    "history_sample_weight = model.fit(np.array(pad_tokens), \n",
    "                        np.array(pad_tags), \n",
    "                        verbose=1, \n",
    "                        epochs=8,\n",
    "                        sample_weight = pad_weight,\n",
    "                        validation_split=0.2)"
   ]
  },
  {
   "cell_type": "code",
   "execution_count": 38,
   "id": "aff8ccef",
   "metadata": {},
   "outputs": [],
   "source": [
    "sent = 'Put on the music'\n",
    "pred_tokens = token.texts_to_sequences([sent])\n",
    "pad_seq_pred = pad_sequences(pred_tokens, maxlen=12, padding = 'post')\n",
    "\n",
    "prediction = model.predict(pad_seq_pred)"
   ]
  },
  {
   "cell_type": "code",
   "execution_count": 39,
   "id": "72f55f35",
   "metadata": {},
   "outputs": [],
   "source": [
    "def change_to_one_hot_encode(predicted_list):\n",
    "    pred_one_hot_encode = []\n",
    "    for sentence in predicted_list:\n",
    "        indexes = np.argmax(sentence, axis = 1)\n",
    "        sentence_encoded = []\n",
    "        for index in indexes:\n",
    "            one_hot_encode_word = np.zeros(2)\n",
    "            one_hot_encode_word[index] = 1.0\n",
    "            sentence_encoded.append(one_hot_encode_word)\n",
    "            \n",
    "        pred_one_hot_encode.append(sentence_encoded)\n",
    "        \n",
    "    return pred_one_hot_encode"
   ]
  },
  {
   "cell_type": "code",
   "execution_count": 40,
   "id": "2b189adf",
   "metadata": {},
   "outputs": [
    {
     "data": {
      "text/plain": [
       "[[array([1., 0.]),\n",
       "  array([1., 0.]),\n",
       "  array([1., 0.]),\n",
       "  array([0., 1.]),\n",
       "  array([1., 0.]),\n",
       "  array([1., 0.]),\n",
       "  array([1., 0.]),\n",
       "  array([1., 0.]),\n",
       "  array([1., 0.]),\n",
       "  array([1., 0.]),\n",
       "  array([1., 0.]),\n",
       "  array([1., 0.])]]"
      ]
     },
     "execution_count": 40,
     "metadata": {},
     "output_type": "execute_result"
    }
   ],
   "source": [
    "change_to_one_hot_encode(prediction)"
   ]
  },
  {
   "cell_type": "code",
   "execution_count": null,
   "id": "93ea06b7",
   "metadata": {},
   "outputs": [],
   "source": []
  }
 ],
 "metadata": {
  "kernelspec": {
   "display_name": "Python 3 (ipykernel)",
   "language": "python",
   "name": "python3"
  },
  "language_info": {
   "codemirror_mode": {
    "name": "ipython",
    "version": 3
   },
   "file_extension": ".py",
   "mimetype": "text/x-python",
   "name": "python",
   "nbconvert_exporter": "python",
   "pygments_lexer": "ipython3",
   "version": "3.8.15"
  }
 },
 "nbformat": 4,
 "nbformat_minor": 5
}
